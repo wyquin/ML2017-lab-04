{
 "cells": [
  {
   "cell_type": "markdown",
   "metadata": {},
   "source": [
    "# 基于SGD的推荐系统"
   ]
  },
  {
   "cell_type": "code",
   "execution_count": 18,
   "metadata": {
    "collapsed": true
   },
   "outputs": [],
   "source": [
    "import numpy as np\n",
    "import matplotlib.pyplot as plt\n",
    "from numpy import *"
   ]
  },
  {
   "cell_type": "code",
   "execution_count": 19,
   "metadata": {
    "collapsed": true
   },
   "outputs": [],
   "source": [
    "user_num = 943\n",
    "item_num = 1682\n",
    "k = 5\n",
    "alpha = 0.02\n",
    "beta = 0.1\n",
    "train_file = \"./ml-100k/u1.base\"\n",
    "valid_file = \"./ml-100k/u1.test\"\n",
    "steps = 8000"
   ]
  },
  {
   "cell_type": "markdown",
   "metadata": {},
   "source": [
    "### 读入数据"
   ]
  },
  {
   "cell_type": "code",
   "execution_count": 20,
   "metadata": {
    "collapsed": true
   },
   "outputs": [],
   "source": [
    "def load_data(filename):\n",
    "    f = open(filename)\n",
    "    data = np.zeros((user_num, item_num))\n",
    "    for line in f.readlines():\n",
    "        lines = line.strip().split(\"\\t\")\n",
    "        data[int(lines[0])-1, int(lines[1])-1] = int(lines[2])\n",
    "\n",
    "    return data"
   ]
  },
  {
   "cell_type": "markdown",
   "metadata": {},
   "source": [
    "### 损失函数计算"
   ]
  },
  {
   "cell_type": "code",
   "execution_count": 21,
   "metadata": {
    "collapsed": true
   },
   "outputs": [],
   "source": [
    "def compute_loss(p, q, valid_data):\n",
    "    loss = 0.0\n",
    "    count = 0\n",
    "    m, n = shape(valid_data)\n",
    "    for i in range(m):\n",
    "        for j in range(n):\n",
    "            if valid_data[i][j] > 0:\n",
    "                count += 1\n",
    "                loss = loss + pow(valid_data[i][j] - np.dot(p[i, :], q[:, j]), 2)\n",
    "                loss = loss + (beta / 2) * np.sum(p[i, :]**2) + np.sum(q[:, k]**2)\n",
    "    return loss/count"
   ]
  },
  {
   "cell_type": "markdown",
   "metadata": {},
   "source": [
    "### SGD求解"
   ]
  },
  {
   "cell_type": "code",
   "execution_count": 22,
   "metadata": {
    "collapsed": true
   },
   "outputs": [],
   "source": [
    "def matrix_factorization(train_data, valid_data):\n",
    "    m, n = shape(train_data)\n",
    "    p = np.random.rand(m, k)\n",
    "    q = np.random.rand(k, n)\n",
    "    loss_valid = []\n",
    "    data_index = list(range(m * n))\n",
    "    for step in range(steps):\n",
    "        while 1:\n",
    "            rand_index = int(random.uniform(0, len(data_index)))\n",
    "            i = int(rand_index / item_num)\n",
    "            j = int(rand_index % item_num)\n",
    "            if train_data[i, j] > 0:\n",
    "                break\n",
    "            else:\n",
    "                del (data_index[rand_index])\n",
    "                continue\n",
    "        error = train_data[i, j] - np.dot(p[i, :], q[:, j])\n",
    "        p[i, :] = p[i, :] + alpha * (2 * error * np.transpose(q[:, j]) - beta * p[i, :])\n",
    "        q[:, j] = q[:, j] + alpha * (2 * error * np.transpose(p[i, :]) - beta * q[:, j])\n",
    "        if step % 1000 == 0:\n",
    "            loss_step = compute_loss(p, q, valid_data)\n",
    "            loss_valid.append(loss_step)\n",
    "            print('step {0}: valid_loss={1}'.format(step, loss_step))\n",
    "        del (data_index[rand_index])\n",
    "    return p, q, loss_valid"
   ]
  },
  {
   "cell_type": "markdown",
   "metadata": {},
   "source": [
    "### 绘图 "
   ]
  },
  {
   "cell_type": "code",
   "execution_count": 23,
   "metadata": {
    "collapsed": true
   },
   "outputs": [],
   "source": [
    "def plot_loss(y1):\n",
    "    plt.plot(y1, label='loss')\n",
    "    plt.legend()\n",
    "    plt.xlabel('Iteration / 1000')\n",
    "    plt.ylabel('Loss')\n",
    "    plt.show()"
   ]
  },
  {
   "cell_type": "code",
   "execution_count": 24,
   "metadata": {},
   "outputs": [
    {
     "name": "stdout",
     "output_type": "stream",
     "text": [
      "step 0: valid_loss=8.357594806137344\n",
      "step 1000: valid_loss=6.753393430690821\n",
      "step 2000: valid_loss=5.433592559047671\n",
      "step 3000: valid_loss=4.574114387772791\n",
      "step 4000: valid_loss=4.006655692467907\n",
      "step 5000: valid_loss=3.6374832178603618\n",
      "step 6000: valid_loss=3.4130726215440825\n",
      "step 7000: valid_loss=3.2574668050290287\n"
     ]
    },
    {
     "data": {
      "image/png": "[encoded data removed]",
      "text/plain": [
       "<matplotlib.figure.Figure at 0x7f92cc5d6da0>"
      ]
     },
     "metadata": {},
     "output_type": "display_data"
    }
   ],
   "source": [
    "if __name__ == \"__main__\":\n",
    "    train_f = load_data(train_file)\n",
    "    valid_f = load_data(valid_file)\n",
    "    Pn, Qn, loss_main = matrix_factorization(train_f, valid_f)\n",
    "    plot_loss(loss_main)"
   ]
  },
  {
   "cell_type": "code",
   "execution_count": null,
   "metadata": {
    "collapsed": true
   },
   "outputs": [],
   "source": []
  }
 ],
 "metadata": {
  "kernelspec": {
   "display_name": "Python 3",
   "language": "python",
   "name": "python3"
  },
  "language_info": {
   "codemirror_mode": {
    "name": "ipython",
    "version": 3
   },
   "file_extension": ".py",
   "mimetype": "text/x-python",
   "name": "python",
   "nbconvert_exporter": "python",
   "pygments_lexer": "ipython3",
   "version": "3.6.1"
  }
 },
 "nbformat": 4,
 "nbformat_minor": 2
}
